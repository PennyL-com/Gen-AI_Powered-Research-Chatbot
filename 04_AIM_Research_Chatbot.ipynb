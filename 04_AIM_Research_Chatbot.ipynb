{
  "nbformat": 4,
  "nbformat_minor": 0,
  "metadata": {
    "colab": {
      "provenance": [],
      "toc_visible": true,
      "gpuType": "T4"
    },
    "kernelspec": {
      "name": "python3",
      "display_name": "Python 3"
    },
    "language_info": {
      "name": "python"
    },
    "accelerator": "GPU"
  },
  "cells": [
    {
      "cell_type": "markdown",
      "source": [
        "# AIM - Research Chat Bot (RCH)"
      ],
      "metadata": {
        "id": "UM1zJqLLUvk_"
      }
    },
    {
      "cell_type": "markdown",
      "source": [
        "## 1.Set-Up"
      ],
      "metadata": {
        "id": "mJ43Vd4wW_Zx"
      }
    },
    {
      "cell_type": "markdown",
      "source": [
        "### Check GPU and Memory"
      ],
      "metadata": {
        "id": "OU6_J8OUYvSf"
      }
    },
    {
      "cell_type": "code",
      "source": [
        "gpu_info = !nvidia-smi\n",
        "gpu_info = '\\n'.join(gpu_info)\n",
        "if gpu_info.find('failed') >= 0:\n",
        "  print('Select the Runtime → \"Change runtime type\" menu to enable a GPU accelerator, ')\n",
        "  print('and then re-execute this cell.')\n",
        "else:\n",
        "  print(gpu_info)"
      ],
      "metadata": {
        "colab": {
          "base_uri": "https://localhost:8080/"
        },
        "id": "tQ0R4E80Wo0F",
        "outputId": "ed687536-ff6e-4c2c-f184-4b2cb33ad02b"
      },
      "execution_count": null,
      "outputs": [
        {
          "output_type": "stream",
          "name": "stdout",
          "text": [
            "Tue Jun 17 18:32:20 2025       \n",
            "+-----------------------------------------------------------------------------------------+\n",
            "| NVIDIA-SMI 550.54.15              Driver Version: 550.54.15      CUDA Version: 12.4     |\n",
            "|-----------------------------------------+------------------------+----------------------+\n",
            "| GPU  Name                 Persistence-M | Bus-Id          Disp.A | Volatile Uncorr. ECC |\n",
            "| Fan  Temp   Perf          Pwr:Usage/Cap |           Memory-Usage | GPU-Util  Compute M. |\n",
            "|                                         |                        |               MIG M. |\n",
            "|=========================================+========================+======================|\n",
            "|   0  Tesla T4                       Off |   00000000:00:04.0 Off |                    0 |\n",
            "| N/A   48C    P8              9W /   70W |       0MiB /  15360MiB |      0%      Default |\n",
            "|                                         |                        |                  N/A |\n",
            "+-----------------------------------------+------------------------+----------------------+\n",
            "                                                                                         \n",
            "+-----------------------------------------------------------------------------------------+\n",
            "| Processes:                                                                              |\n",
            "|  GPU   GI   CI        PID   Type   Process name                              GPU Memory |\n",
            "|        ID   ID                                                               Usage      |\n",
            "|=========================================================================================|\n",
            "|  No running processes found                                                             |\n",
            "+-----------------------------------------------------------------------------------------+\n"
          ]
        }
      ]
    },
    {
      "cell_type": "code",
      "source": [
        "from psutil import virtual_memory\n",
        "ram_gb = virtual_memory().total / 1e9\n",
        "print('Your runtime has {:.1f} gigabytes of available RAM\\n'.format(ram_gb))\n",
        "\n",
        "if ram_gb < 20:\n",
        "  print('To enable a high-RAM runtime, select the Runtime → \"Change runtime type\"')\n",
        "  print('menu, and then select High-RAM in the Runtime shape dropdown. Then, ')\n",
        "  print('re-execute this cell.')\n",
        "else:\n",
        "  print('You are using a high-RAM runtime!')"
      ],
      "metadata": {
        "colab": {
          "base_uri": "https://localhost:8080/"
        },
        "id": "HCvqu5eGXSGb",
        "outputId": "7c49b187-2bc4-46ba-ff9e-058a0dcf8f45"
      },
      "execution_count": null,
      "outputs": [
        {
          "output_type": "stream",
          "name": "stdout",
          "text": [
            "Your runtime has 13.6 gigabytes of available RAM\n",
            "\n",
            "To enable a high-RAM runtime, select the Runtime → \"Change runtime type\"\n",
            "menu, and then select High-RAM in the Runtime shape dropdown. Then, \n",
            "re-execute this cell.\n"
          ]
        }
      ]
    },
    {
      "cell_type": "markdown",
      "source": [
        "### Access Permission and Import Data"
      ],
      "metadata": {
        "id": "ughwfthoYkgz"
      }
    },
    {
      "cell_type": "code",
      "source": [
        "#Allow all permissions for access to google drive\n",
        "from google.colab import drive\n",
        "drive.mount('/content/drive')\n",
        "import os\n",
        "abspath = os.path.abspath('/content/drive/My Drive/E. classmaterial/2024 Ivey MMA/AIM_project') ## String which contains absolute path to the script file\n",
        "os.chdir(abspath)"
      ],
      "metadata": {
        "colab": {
          "base_uri": "https://localhost:8080/"
        },
        "id": "D724L_Y9XVLE",
        "outputId": "97b062b9-a60b-4e1e-df1c-2c9f6f7de9b8"
      },
      "execution_count": null,
      "outputs": [
        {
          "output_type": "stream",
          "name": "stdout",
          "text": [
            "Mounted at /content/drive\n"
          ]
        }
      ]
    },
    {
      "cell_type": "code",
      "source": [
        "import pandas as pd\n",
        "import numpy as np\n",
        "import os\n",
        "import matplotlib.pyplot as plt\n",
        "from matplotlib.pyplot import imshow\n",
        "from matplotlib.pyplot import imread\n",
        "import glob\n",
        "from PIL import Image\n",
        "from IPython.display import SVG\n",
        "import sys\n",
        "import gc #garbage collector\n",
        "\n",
        "import seaborn as sns\n",
        "!pip install squarify\n",
        "import squarify\n",
        "import re"
      ],
      "metadata": {
        "id": "3wF488YpX98m",
        "colab": {
          "base_uri": "https://localhost:8080/"
        },
        "outputId": "dddb9728-5e9e-4adf-f6f8-c57d211105a1"
      },
      "execution_count": null,
      "outputs": [
        {
          "output_type": "stream",
          "name": "stdout",
          "text": [
            "Requirement already satisfied: squarify in /usr/local/lib/python3.11/dist-packages (0.4.4)\n"
          ]
        }
      ]
    },
    {
      "cell_type": "code",
      "source": [
        "#import os\n",
        "abspath = os.path.abspath('/content/drive/My Drive/E. classmaterial/2024 Ivey MMA/AIM_project') ## String which contains absolute path to the script file\n",
        "os.chdir(abspath)"
      ],
      "metadata": {
        "id": "Ugzyg419X-4d"
      },
      "execution_count": null,
      "outputs": []
    },
    {
      "cell_type": "markdown",
      "source": [
        "## 2.Prepare the Data"
      ],
      "metadata": {
        "id": "VlXB_AFYYxxf"
      }
    },
    {
      "cell_type": "markdown",
      "source": [
        "### Structure data into Pandas DataFrames"
      ],
      "metadata": {
        "id": "zF4M6c3Qd8GC"
      }
    },
    {
      "cell_type": "code",
      "source": [
        "csv_file= ['customer_satisfactory_survey.csv']\n",
        "\n",
        "df=[]\n",
        "for i in range(len(csv_file)):\n",
        "    df_s = pd.read_csv(csv_file[i],encoding='utf-8')\n",
        "    df.append(df_s)\n",
        "\n",
        "#row bind\n",
        "df=pd.concat(df,axis=0,ignore_index=True)\n",
        "\n",
        "print(df.shape)\n",
        "\n",
        "#orig_total=df.shape[0] #122"
      ],
      "metadata": {
        "colab": {
          "base_uri": "https://localhost:8080/"
        },
        "id": "rcnZrzRtY4W_",
        "outputId": "4ebbc7de-b0cf-4df2-8038-db0e73a3b408"
      },
      "execution_count": null,
      "outputs": [
        {
          "output_type": "stream",
          "name": "stdout",
          "text": [
            "(122, 21)\n"
          ]
        }
      ]
    },
    {
      "cell_type": "code",
      "source": [
        "#view first few rows of data\n",
        "df.head()"
      ],
      "metadata": {
        "colab": {
          "base_uri": "https://localhost:8080/",
          "height": 724
        },
        "id": "708kF329afWG",
        "outputId": "83077ba5-87b6-4a22-cd6c-7b8afa4d058f"
      },
      "execution_count": null,
      "outputs": [
        {
          "output_type": "execute_result",
          "data": {
            "text/plain": [
              "                      Timestamp 1. Your Gender    2. Your Age  \\\n",
              "0  2019/10/01 12:38:43 PM GMT+8         Female  From 20 to 29   \n",
              "1  2019/10/01 12:38:54 PM GMT+8         Female  From 20 to 29   \n",
              "2  2019/10/01 12:38:56 PM GMT+8           Male  From 20 to 29   \n",
              "3  2019/10/01 12:39:08 PM GMT+8         Female  From 20 to 29   \n",
              "4  2019/10/01 12:39:20 PM GMT+8           Male  From 20 to 29   \n",
              "\n",
              "  3. Are you currently....? 4. What is your annual income?  \\\n",
              "0                   Student             Less than RM25,000   \n",
              "1                   Student             Less than RM25,000   \n",
              "2                  Employed             Less than RM25,000   \n",
              "3                   Student             Less than RM25,000   \n",
              "4                   Student             Less than RM25,000   \n",
              "\n",
              "  5. How often do you visit Starbucks? 6. How do you usually enjoy Starbucks?  \\\n",
              "0                               Rarely                                Dine in   \n",
              "1                               Rarely                              Take away   \n",
              "2                              Monthly                                Dine in   \n",
              "3                               Rarely                              Take away   \n",
              "4                              Monthly                              Take away   \n",
              "\n",
              "  7. How much time do you normally  spend during your visit?  \\\n",
              "0                       Between 30 minutes to 1 hour           \n",
              "1                                   Below 30 minutes           \n",
              "2                       Between 30 minutes to 1 hour           \n",
              "3                                   Below 30 minutes           \n",
              "4                       Between 30 minutes to 1 hour           \n",
              "\n",
              "  8. The nearest Starbucks's outlet to you is...?  \\\n",
              "0                                      within 1km   \n",
              "1                                       1km - 3km   \n",
              "2                                   more than 3km   \n",
              "3                                   more than 3km   \n",
              "4                                       1km - 3km   \n",
              "\n",
              "  9. Do you have Starbucks membership card?  ...  \\\n",
              "0                                       Yes  ...   \n",
              "1                                       Yes  ...   \n",
              "2                                       Yes  ...   \n",
              "3                                        No  ...   \n",
              "4                                        No  ...   \n",
              "\n",
              "  11. On average, how much would you spend at Starbucks per visit?  \\\n",
              "0                                     Less than RM20                 \n",
              "1                                     Less than RM20                 \n",
              "2                                     Less than RM20                 \n",
              "3                                     Less than RM20                 \n",
              "4                                 Around RM20 - RM40                 \n",
              "\n",
              "  12. How would you rate the quality of Starbucks compared to other brands (Coffee Bean, Old Town White Coffee..) to be:  \\\n",
              "0                                                  4                                                                       \n",
              "1                                                  4                                                                       \n",
              "2                                                  4                                                                       \n",
              "3                                                  2                                                                       \n",
              "4                                                  3                                                                       \n",
              "\n",
              "   13. How would you rate the price range at Starbucks?  \\\n",
              "0                                                  3      \n",
              "1                                                  3      \n",
              "2                                                  3      \n",
              "3                                                  1      \n",
              "4                                                  3      \n",
              "\n",
              "   14. How important are sales and promotions in your purchase decision?  \\\n",
              "0                                                  5                       \n",
              "1                                                  4                       \n",
              "2                                                  4                       \n",
              "3                                                  4                       \n",
              "4                                                  4                       \n",
              "\n",
              "   15. How would you rate the ambiance at Starbucks? (lighting, music, etc...)  \\\n",
              "0                                                  5                             \n",
              "1                                                  4                             \n",
              "2                                                  4                             \n",
              "3                                                  3                             \n",
              "4                                                  2                             \n",
              "\n",
              "   16. You rate the WiFi quality at Starbucks as..  \\\n",
              "0                                                4   \n",
              "1                                                4   \n",
              "2                                                4   \n",
              "3                                                3   \n",
              "4                                                2   \n",
              "\n",
              "   17. How would you rate the service at Starbucks? (Promptness, friendliness, etc..)  \\\n",
              "0                                                  4                                    \n",
              "1                                                  5                                    \n",
              "2                                                  4                                    \n",
              "3                                                  3                                    \n",
              "4                                                  3                                    \n",
              "\n",
              "   18. How likely you will choose Starbucks for doing business meetings or hangout with friends?  \\\n",
              "0                                                  3                                               \n",
              "1                                                  2                                               \n",
              "2                                                  3                                               \n",
              "3                                                  3                                               \n",
              "4                                                  3                                               \n",
              "\n",
              "   19. How do you come to hear of promotions at Starbucks? Check all that apply.  \\\n",
              "0  Starbucks Website/Apps;Social Media;Emails;Dea...                               \n",
              "1                     Social Media;In Store displays                               \n",
              "2                       In Store displays;Billboards                               \n",
              "3                  Through friends and word of mouth                               \n",
              "4                Starbucks Website/Apps;Social Media                               \n",
              "\n",
              "  20. Will you continue buying at Starbucks?  \n",
              "0                                        Yes  \n",
              "1                                        Yes  \n",
              "2                                        Yes  \n",
              "3                                         No  \n",
              "4                                        Yes  \n",
              "\n",
              "[5 rows x 21 columns]"
            ],
            "text/html": [
              "\n",
              "  <div id=\"df-0b220a13-4225-4cc1-a706-ce246f85e258\" class=\"colab-df-container\">\n",
              "    <div>\n",
              "<style scoped>\n",
              "    .dataframe tbody tr th:only-of-type {\n",
              "        vertical-align: middle;\n",
              "    }\n",
              "\n",
              "    .dataframe tbody tr th {\n",
              "        vertical-align: top;\n",
              "    }\n",
              "\n",
              "    .dataframe thead th {\n",
              "        text-align: right;\n",
              "    }\n",
              "</style>\n",
              "<table border=\"1\" class=\"dataframe\">\n",
              "  <thead>\n",
              "    <tr style=\"text-align: right;\">\n",
              "      <th></th>\n",
              "      <th>Timestamp</th>\n",
              "      <th>1. Your Gender</th>\n",
              "      <th>2. Your Age</th>\n",
              "      <th>3. Are you currently....?</th>\n",
              "      <th>4. What is your annual income?</th>\n",
              "      <th>5. How often do you visit Starbucks?</th>\n",
              "      <th>6. How do you usually enjoy Starbucks?</th>\n",
              "      <th>7. How much time do you normally  spend during your visit?</th>\n",
              "      <th>8. The nearest Starbucks's outlet to you is...?</th>\n",
              "      <th>9. Do you have Starbucks membership card?</th>\n",
              "      <th>...</th>\n",
              "      <th>11. On average, how much would you spend at Starbucks per visit?</th>\n",
              "      <th>12. How would you rate the quality of Starbucks compared to other brands (Coffee Bean, Old Town White Coffee..) to be:</th>\n",
              "      <th>13. How would you rate the price range at Starbucks?</th>\n",
              "      <th>14. How important are sales and promotions in your purchase decision?</th>\n",
              "      <th>15. How would you rate the ambiance at Starbucks? (lighting, music, etc...)</th>\n",
              "      <th>16. You rate the WiFi quality at Starbucks as..</th>\n",
              "      <th>17. How would you rate the service at Starbucks? (Promptness, friendliness, etc..)</th>\n",
              "      <th>18. How likely you will choose Starbucks for doing business meetings or hangout with friends?</th>\n",
              "      <th>19. How do you come to hear of promotions at Starbucks? Check all that apply.</th>\n",
              "      <th>20. Will you continue buying at Starbucks?</th>\n",
              "    </tr>\n",
              "  </thead>\n",
              "  <tbody>\n",
              "    <tr>\n",
              "      <th>0</th>\n",
              "      <td>2019/10/01 12:38:43 PM GMT+8</td>\n",
              "      <td>Female</td>\n",
              "      <td>From 20 to 29</td>\n",
              "      <td>Student</td>\n",
              "      <td>Less than RM25,000</td>\n",
              "      <td>Rarely</td>\n",
              "      <td>Dine in</td>\n",
              "      <td>Between 30 minutes to 1 hour</td>\n",
              "      <td>within 1km</td>\n",
              "      <td>Yes</td>\n",
              "      <td>...</td>\n",
              "      <td>Less than RM20</td>\n",
              "      <td>4</td>\n",
              "      <td>3</td>\n",
              "      <td>5</td>\n",
              "      <td>5</td>\n",
              "      <td>4</td>\n",
              "      <td>4</td>\n",
              "      <td>3</td>\n",
              "      <td>Starbucks Website/Apps;Social Media;Emails;Dea...</td>\n",
              "      <td>Yes</td>\n",
              "    </tr>\n",
              "    <tr>\n",
              "      <th>1</th>\n",
              "      <td>2019/10/01 12:38:54 PM GMT+8</td>\n",
              "      <td>Female</td>\n",
              "      <td>From 20 to 29</td>\n",
              "      <td>Student</td>\n",
              "      <td>Less than RM25,000</td>\n",
              "      <td>Rarely</td>\n",
              "      <td>Take away</td>\n",
              "      <td>Below 30 minutes</td>\n",
              "      <td>1km - 3km</td>\n",
              "      <td>Yes</td>\n",
              "      <td>...</td>\n",
              "      <td>Less than RM20</td>\n",
              "      <td>4</td>\n",
              "      <td>3</td>\n",
              "      <td>4</td>\n",
              "      <td>4</td>\n",
              "      <td>4</td>\n",
              "      <td>5</td>\n",
              "      <td>2</td>\n",
              "      <td>Social Media;In Store displays</td>\n",
              "      <td>Yes</td>\n",
              "    </tr>\n",
              "    <tr>\n",
              "      <th>2</th>\n",
              "      <td>2019/10/01 12:38:56 PM GMT+8</td>\n",
              "      <td>Male</td>\n",
              "      <td>From 20 to 29</td>\n",
              "      <td>Employed</td>\n",
              "      <td>Less than RM25,000</td>\n",
              "      <td>Monthly</td>\n",
              "      <td>Dine in</td>\n",
              "      <td>Between 30 minutes to 1 hour</td>\n",
              "      <td>more than 3km</td>\n",
              "      <td>Yes</td>\n",
              "      <td>...</td>\n",
              "      <td>Less than RM20</td>\n",
              "      <td>4</td>\n",
              "      <td>3</td>\n",
              "      <td>4</td>\n",
              "      <td>4</td>\n",
              "      <td>4</td>\n",
              "      <td>4</td>\n",
              "      <td>3</td>\n",
              "      <td>In Store displays;Billboards</td>\n",
              "      <td>Yes</td>\n",
              "    </tr>\n",
              "    <tr>\n",
              "      <th>3</th>\n",
              "      <td>2019/10/01 12:39:08 PM GMT+8</td>\n",
              "      <td>Female</td>\n",
              "      <td>From 20 to 29</td>\n",
              "      <td>Student</td>\n",
              "      <td>Less than RM25,000</td>\n",
              "      <td>Rarely</td>\n",
              "      <td>Take away</td>\n",
              "      <td>Below 30 minutes</td>\n",
              "      <td>more than 3km</td>\n",
              "      <td>No</td>\n",
              "      <td>...</td>\n",
              "      <td>Less than RM20</td>\n",
              "      <td>2</td>\n",
              "      <td>1</td>\n",
              "      <td>4</td>\n",
              "      <td>3</td>\n",
              "      <td>3</td>\n",
              "      <td>3</td>\n",
              "      <td>3</td>\n",
              "      <td>Through friends and word of mouth</td>\n",
              "      <td>No</td>\n",
              "    </tr>\n",
              "    <tr>\n",
              "      <th>4</th>\n",
              "      <td>2019/10/01 12:39:20 PM GMT+8</td>\n",
              "      <td>Male</td>\n",
              "      <td>From 20 to 29</td>\n",
              "      <td>Student</td>\n",
              "      <td>Less than RM25,000</td>\n",
              "      <td>Monthly</td>\n",
              "      <td>Take away</td>\n",
              "      <td>Between 30 minutes to 1 hour</td>\n",
              "      <td>1km - 3km</td>\n",
              "      <td>No</td>\n",
              "      <td>...</td>\n",
              "      <td>Around RM20 - RM40</td>\n",
              "      <td>3</td>\n",
              "      <td>3</td>\n",
              "      <td>4</td>\n",
              "      <td>2</td>\n",
              "      <td>2</td>\n",
              "      <td>3</td>\n",
              "      <td>3</td>\n",
              "      <td>Starbucks Website/Apps;Social Media</td>\n",
              "      <td>Yes</td>\n",
              "    </tr>\n",
              "  </tbody>\n",
              "</table>\n",
              "<p>5 rows × 21 columns</p>\n",
              "</div>\n",
              "    <div class=\"colab-df-buttons\">\n",
              "\n",
              "  <div class=\"colab-df-container\">\n",
              "    <button class=\"colab-df-convert\" onclick=\"convertToInteractive('df-0b220a13-4225-4cc1-a706-ce246f85e258')\"\n",
              "            title=\"Convert this dataframe to an interactive table.\"\n",
              "            style=\"display:none;\">\n",
              "\n",
              "  <svg xmlns=\"http://www.w3.org/2000/svg\" height=\"24px\" viewBox=\"0 -960 960 960\">\n",
              "    <path d=\"M120-120v-720h720v720H120Zm60-500h600v-160H180v160Zm220 220h160v-160H400v160Zm0 220h160v-160H400v160ZM180-400h160v-160H180v160Zm440 0h160v-160H620v160ZM180-180h160v-160H180v160Zm440 0h160v-160H620v160Z\"/>\n",
              "  </svg>\n",
              "    </button>\n",
              "\n",
              "  <style>\n",
              "    .colab-df-container {\n",
              "      display:flex;\n",
              "      gap: 12px;\n",
              "    }\n",
              "\n",
              "    .colab-df-convert {\n",
              "      background-color: #E8F0FE;\n",
              "      border: none;\n",
              "      border-radius: 50%;\n",
              "      cursor: pointer;\n",
              "      display: none;\n",
              "      fill: #1967D2;\n",
              "      height: 32px;\n",
              "      padding: 0 0 0 0;\n",
              "      width: 32px;\n",
              "    }\n",
              "\n",
              "    .colab-df-convert:hover {\n",
              "      background-color: #E2EBFA;\n",
              "      box-shadow: 0px 1px 2px rgba(60, 64, 67, 0.3), 0px 1px 3px 1px rgba(60, 64, 67, 0.15);\n",
              "      fill: #174EA6;\n",
              "    }\n",
              "\n",
              "    .colab-df-buttons div {\n",
              "      margin-bottom: 4px;\n",
              "    }\n",
              "\n",
              "    [theme=dark] .colab-df-convert {\n",
              "      background-color: #3B4455;\n",
              "      fill: #D2E3FC;\n",
              "    }\n",
              "\n",
              "    [theme=dark] .colab-df-convert:hover {\n",
              "      background-color: #434B5C;\n",
              "      box-shadow: 0px 1px 3px 1px rgba(0, 0, 0, 0.15);\n",
              "      filter: drop-shadow(0px 1px 2px rgba(0, 0, 0, 0.3));\n",
              "      fill: #FFFFFF;\n",
              "    }\n",
              "  </style>\n",
              "\n",
              "    <script>\n",
              "      const buttonEl =\n",
              "        document.querySelector('#df-0b220a13-4225-4cc1-a706-ce246f85e258 button.colab-df-convert');\n",
              "      buttonEl.style.display =\n",
              "        google.colab.kernel.accessAllowed ? 'block' : 'none';\n",
              "\n",
              "      async function convertToInteractive(key) {\n",
              "        const element = document.querySelector('#df-0b220a13-4225-4cc1-a706-ce246f85e258');\n",
              "        const dataTable =\n",
              "          await google.colab.kernel.invokeFunction('convertToInteractive',\n",
              "                                                    [key], {});\n",
              "        if (!dataTable) return;\n",
              "\n",
              "        const docLinkHtml = 'Like what you see? Visit the ' +\n",
              "          '<a target=\"_blank\" href=https://colab.research.google.com/notebooks/data_table.ipynb>data table notebook</a>'\n",
              "          + ' to learn more about interactive tables.';\n",
              "        element.innerHTML = '';\n",
              "        dataTable['output_type'] = 'display_data';\n",
              "        await google.colab.output.renderOutput(dataTable, element);\n",
              "        const docLink = document.createElement('div');\n",
              "        docLink.innerHTML = docLinkHtml;\n",
              "        element.appendChild(docLink);\n",
              "      }\n",
              "    </script>\n",
              "  </div>\n",
              "\n",
              "\n",
              "    <div id=\"df-337d400e-9d56-46f4-a311-d36597792bd0\">\n",
              "      <button class=\"colab-df-quickchart\" onclick=\"quickchart('df-337d400e-9d56-46f4-a311-d36597792bd0')\"\n",
              "                title=\"Suggest charts\"\n",
              "                style=\"display:none;\">\n",
              "\n",
              "<svg xmlns=\"http://www.w3.org/2000/svg\" height=\"24px\"viewBox=\"0 0 24 24\"\n",
              "     width=\"24px\">\n",
              "    <g>\n",
              "        <path d=\"M19 3H5c-1.1 0-2 .9-2 2v14c0 1.1.9 2 2 2h14c1.1 0 2-.9 2-2V5c0-1.1-.9-2-2-2zM9 17H7v-7h2v7zm4 0h-2V7h2v10zm4 0h-2v-4h2v4z\"/>\n",
              "    </g>\n",
              "</svg>\n",
              "      </button>\n",
              "\n",
              "<style>\n",
              "  .colab-df-quickchart {\n",
              "      --bg-color: #E8F0FE;\n",
              "      --fill-color: #1967D2;\n",
              "      --hover-bg-color: #E2EBFA;\n",
              "      --hover-fill-color: #174EA6;\n",
              "      --disabled-fill-color: #AAA;\n",
              "      --disabled-bg-color: #DDD;\n",
              "  }\n",
              "\n",
              "  [theme=dark] .colab-df-quickchart {\n",
              "      --bg-color: #3B4455;\n",
              "      --fill-color: #D2E3FC;\n",
              "      --hover-bg-color: #434B5C;\n",
              "      --hover-fill-color: #FFFFFF;\n",
              "      --disabled-bg-color: #3B4455;\n",
              "      --disabled-fill-color: #666;\n",
              "  }\n",
              "\n",
              "  .colab-df-quickchart {\n",
              "    background-color: var(--bg-color);\n",
              "    border: none;\n",
              "    border-radius: 50%;\n",
              "    cursor: pointer;\n",
              "    display: none;\n",
              "    fill: var(--fill-color);\n",
              "    height: 32px;\n",
              "    padding: 0;\n",
              "    width: 32px;\n",
              "  }\n",
              "\n",
              "  .colab-df-quickchart:hover {\n",
              "    background-color: var(--hover-bg-color);\n",
              "    box-shadow: 0 1px 2px rgba(60, 64, 67, 0.3), 0 1px 3px 1px rgba(60, 64, 67, 0.15);\n",
              "    fill: var(--button-hover-fill-color);\n",
              "  }\n",
              "\n",
              "  .colab-df-quickchart-complete:disabled,\n",
              "  .colab-df-quickchart-complete:disabled:hover {\n",
              "    background-color: var(--disabled-bg-color);\n",
              "    fill: var(--disabled-fill-color);\n",
              "    box-shadow: none;\n",
              "  }\n",
              "\n",
              "  .colab-df-spinner {\n",
              "    border: 2px solid var(--fill-color);\n",
              "    border-color: transparent;\n",
              "    border-bottom-color: var(--fill-color);\n",
              "    animation:\n",
              "      spin 1s steps(1) infinite;\n",
              "  }\n",
              "\n",
              "  @keyframes spin {\n",
              "    0% {\n",
              "      border-color: transparent;\n",
              "      border-bottom-color: var(--fill-color);\n",
              "      border-left-color: var(--fill-color);\n",
              "    }\n",
              "    20% {\n",
              "      border-color: transparent;\n",
              "      border-left-color: var(--fill-color);\n",
              "      border-top-color: var(--fill-color);\n",
              "    }\n",
              "    30% {\n",
              "      border-color: transparent;\n",
              "      border-left-color: var(--fill-color);\n",
              "      border-top-color: var(--fill-color);\n",
              "      border-right-color: var(--fill-color);\n",
              "    }\n",
              "    40% {\n",
              "      border-color: transparent;\n",
              "      border-right-color: var(--fill-color);\n",
              "      border-top-color: var(--fill-color);\n",
              "    }\n",
              "    60% {\n",
              "      border-color: transparent;\n",
              "      border-right-color: var(--fill-color);\n",
              "    }\n",
              "    80% {\n",
              "      border-color: transparent;\n",
              "      border-right-color: var(--fill-color);\n",
              "      border-bottom-color: var(--fill-color);\n",
              "    }\n",
              "    90% {\n",
              "      border-color: transparent;\n",
              "      border-bottom-color: var(--fill-color);\n",
              "    }\n",
              "  }\n",
              "</style>\n",
              "\n",
              "      <script>\n",
              "        async function quickchart(key) {\n",
              "          const quickchartButtonEl =\n",
              "            document.querySelector('#' + key + ' button');\n",
              "          quickchartButtonEl.disabled = true;  // To prevent multiple clicks.\n",
              "          quickchartButtonEl.classList.add('colab-df-spinner');\n",
              "          try {\n",
              "            const charts = await google.colab.kernel.invokeFunction(\n",
              "                'suggestCharts', [key], {});\n",
              "          } catch (error) {\n",
              "            console.error('Error during call to suggestCharts:', error);\n",
              "          }\n",
              "          quickchartButtonEl.classList.remove('colab-df-spinner');\n",
              "          quickchartButtonEl.classList.add('colab-df-quickchart-complete');\n",
              "        }\n",
              "        (() => {\n",
              "          let quickchartButtonEl =\n",
              "            document.querySelector('#df-337d400e-9d56-46f4-a311-d36597792bd0 button');\n",
              "          quickchartButtonEl.style.display =\n",
              "            google.colab.kernel.accessAllowed ? 'block' : 'none';\n",
              "        })();\n",
              "      </script>\n",
              "    </div>\n",
              "\n",
              "    </div>\n",
              "  </div>\n"
            ],
            "application/vnd.google.colaboratory.intrinsic+json": {
              "type": "dataframe",
              "variable_name": "df"
            }
          },
          "metadata": {},
          "execution_count": 10
        }
      ]
    },
    {
      "cell_type": "code",
      "source": [
        "# Check the columns\n",
        "print(df.columns)"
      ],
      "metadata": {
        "colab": {
          "base_uri": "https://localhost:8080/"
        },
        "id": "puLTHyuxaovH",
        "outputId": "5bef618f-5217-48d3-86e5-ea676f9951d6"
      },
      "execution_count": null,
      "outputs": [
        {
          "output_type": "stream",
          "name": "stdout",
          "text": [
            "Index(['Timestamp', '1. Your Gender', '2. Your Age',\n",
            "       '3. Are you currently....?', '4. What is your annual income?',\n",
            "       '5. How often do you visit Starbucks?',\n",
            "       '6. How do you usually enjoy Starbucks?',\n",
            "       '7. How much time do you normally  spend during your visit?',\n",
            "       '8. The nearest Starbucks's outlet to you is...?',\n",
            "       '9. Do you have Starbucks membership card?',\n",
            "       '10. What do you most frequently purchase at Starbucks?',\n",
            "       '11. On average, how much would you spend at Starbucks per visit?',\n",
            "       '12. How would you rate the quality of Starbucks compared to other brands (Coffee Bean, Old Town White Coffee..) to be:',\n",
            "       '13. How would you rate the price range at Starbucks?',\n",
            "       '14. How important are sales and promotions in your purchase decision?',\n",
            "       '15. How would you rate the ambiance at Starbucks? (lighting, music, etc...)',\n",
            "       '16. You rate the WiFi quality at Starbucks as..',\n",
            "       '17. How would you rate the service at Starbucks? (Promptness, friendliness, etc..)',\n",
            "       '18. How likely you will choose Starbucks for doing business meetings or hangout with friends?',\n",
            "       '19. How do you come to hear of promotions at Starbucks? Check all that apply.',\n",
            "       '20. Will you continue buying at Starbucks?'],\n",
            "      dtype='object')\n"
          ]
        }
      ]
    },
    {
      "cell_type": "code",
      "source": [
        "# Check if any column has missing values\n",
        "print(df.isnull().sum())"
      ],
      "metadata": {
        "colab": {
          "base_uri": "https://localhost:8080/"
        },
        "id": "lGjh-PpAb5DO",
        "outputId": "f2faf1aa-0c57-45e2-a474-10785d1952d0"
      },
      "execution_count": null,
      "outputs": [
        {
          "output_type": "stream",
          "name": "stdout",
          "text": [
            "Timestamp                                                                                                                 0\n",
            "1. Your Gender                                                                                                            0\n",
            "2. Your Age                                                                                                               0\n",
            "3. Are you currently....?                                                                                                 0\n",
            "4. What is your annual income?                                                                                            0\n",
            "5. How often do you visit Starbucks?                                                                                      0\n",
            "6. How do you usually enjoy Starbucks?                                                                                    1\n",
            "7. How much time do you normally  spend during your visit?                                                                0\n",
            "8. The nearest Starbucks's outlet to you is...?                                                                           0\n",
            "9. Do you have Starbucks membership card?                                                                                 0\n",
            "10. What do you most frequently purchase at Starbucks?                                                                    0\n",
            "11. On average, how much would you spend at Starbucks per visit?                                                          0\n",
            "12. How would you rate the quality of Starbucks compared to other brands (Coffee Bean, Old Town White Coffee..) to be:    0\n",
            "13. How would you rate the price range at Starbucks?                                                                      0\n",
            "14. How important are sales and promotions in your purchase decision?                                                     0\n",
            "15. How would you rate the ambiance at Starbucks? (lighting, music, etc...)                                               0\n",
            "16. You rate the WiFi quality at Starbucks as..                                                                           0\n",
            "17. How would you rate the service at Starbucks? (Promptness, friendliness, etc..)                                        0\n",
            "18. How likely you will choose Starbucks for doing business meetings or hangout with friends?                             0\n",
            "19. How do you come to hear of promotions at Starbucks? Check all that apply.                                             1\n",
            "20. Will you continue buying at Starbucks?                                                                                0\n",
            "dtype: int64\n"
          ]
        }
      ]
    },
    {
      "cell_type": "code",
      "source": [
        "# check column value and data types\n",
        "\n",
        "summary = []\n",
        "\n",
        "for col in df.columns:\n",
        "    col_dtype = df[col].dtype\n",
        "    col_summary = {'column': col, 'dtype': str(col_dtype)}\n",
        "\n",
        "    if col_dtype == 'object':\n",
        "        unique_vals = df[col].dropna().unique()\n",
        "        # Preview first 10 unique values\n",
        "        col_summary['summary'] = unique_vals[:10].tolist() if len(unique_vals) > 10 else unique_vals.tolist()\n",
        "    elif col_dtype == 'int64':\n",
        "        col_summary['summary'] = f\"Range: {df[col].min()} - {df[col].max()}\"\n",
        "    else:\n",
        "        col_summary['summary'] = None  # You can handle float, bool, etc., if needed\n",
        "\n",
        "    summary.append(col_summary)\n",
        "\n",
        "summary_df = pd.DataFrame(summary)\n",
        "print(summary_df)\n"
      ],
      "metadata": {
        "colab": {
          "base_uri": "https://localhost:8080/"
        },
        "id": "eG4oQ5JYjJIu",
        "outputId": "4b78d077-acd2-458c-e439-7280a2f864ad"
      },
      "execution_count": null,
      "outputs": [
        {
          "output_type": "stream",
          "name": "stdout",
          "text": [
            "                                               column   dtype  \\\n",
            "0                                           Timestamp  object   \n",
            "1                                      1. Your Gender  object   \n",
            "2                                         2. Your Age  object   \n",
            "3                           3. Are you currently....?  object   \n",
            "4                      4. What is your annual income?  object   \n",
            "5                5. How often do you visit Starbucks?  object   \n",
            "6              6. How do you usually enjoy Starbucks?  object   \n",
            "7   7. How much time do you normally  spend during...  object   \n",
            "8     8. The nearest Starbucks's outlet to you is...?  object   \n",
            "9           9. Do you have Starbucks membership card?  object   \n",
            "10  10. What do you most frequently purchase at St...  object   \n",
            "11  11. On average, how much would you spend at St...  object   \n",
            "12  12. How would you rate the quality of Starbuck...   int64   \n",
            "13  13. How would you rate the price range at Star...   int64   \n",
            "14  14. How important are sales and promotions in ...   int64   \n",
            "15  15. How would you rate the ambiance at Starbuc...   int64   \n",
            "16    16. You rate the WiFi quality at Starbucks as..   int64   \n",
            "17  17. How would you rate the service at Starbuck...   int64   \n",
            "18  18. How likely you will choose Starbucks for d...   int64   \n",
            "19  19. How do you come to hear of promotions at S...  object   \n",
            "20         20. Will you continue buying at Starbucks?  object   \n",
            "\n",
            "                                              summary  \n",
            "0   [2019/10/01 12:38:43 PM GMT+8, 2019/10/01 12:3...  \n",
            "1                                      [Female, Male]  \n",
            "2   [From 20 to 29, From 30 to 39, 40 and above, B...  \n",
            "3       [Student, Employed, Self-employed, Housewife]  \n",
            "4   [Less than RM25,000, RM50,000 - RM100,000, RM2...  \n",
            "5             [Rarely, Monthly, Weekly, Never, Daily]  \n",
            "6   [Dine in, Take away, Drive-thru, never, Never ...  \n",
            "7   [Between 30 minutes to 1 hour, Below 30 minute...  \n",
            "8              [within 1km, 1km - 3km, more than 3km]  \n",
            "9                                           [Yes, No]  \n",
            "10  [Coffee, Cold drinks;Pastries, Coffee;Sandwich...  \n",
            "11  [Less than RM20, Around RM20 - RM40, More than...  \n",
            "12                                       Range: 1 - 5  \n",
            "13                                       Range: 1 - 5  \n",
            "14                                       Range: 1 - 5  \n",
            "15                                       Range: 1 - 5  \n",
            "16                                       Range: 1 - 5  \n",
            "17                                       Range: 1 - 5  \n",
            "18                                       Range: 1 - 5  \n",
            "19  [Starbucks Website/Apps;Social Media;Emails;De...  \n",
            "20                                          [Yes, No]  \n"
          ]
        }
      ]
    },
    {
      "cell_type": "code",
      "source": [
        "distinct_vals = df['19. How do you come to hear of promotions at Starbucks? Check all that apply.'].unique()\n",
        "print(distinct_vals)"
      ],
      "metadata": {
        "colab": {
          "base_uri": "https://localhost:8080/"
        },
        "id": "MHvboVqUoE3R",
        "outputId": "9efd7de9-2517-4c47-dac6-09089dd56e11"
      },
      "execution_count": null,
      "outputs": [
        {
          "output_type": "stream",
          "name": "stdout",
          "text": [
            "['Starbucks Website/Apps;Social Media;Emails;Deal sites (fave, iprice, etc...)'\n",
            " 'Social Media;In Store displays' 'In Store displays;Billboards'\n",
            " 'Through friends and word of mouth' 'Starbucks Website/Apps;Social Media'\n",
            " 'Social Media'\n",
            " 'Starbucks Website/Apps;Social Media;Emails;Through friends and word of mouth'\n",
            " 'Starbucks Website/Apps;Social Media;Through friends and word of mouth'\n",
            " 'Social Media;Through friends and word of mouth'\n",
            " 'Social Media;Through friends and word of mouth;In Store displays'\n",
            " 'Starbucks Website/Apps' 'Emails' 'Social Media;Emails'\n",
            " 'Through friends and word of mouth;In Store displays'\n",
            " 'Social Media;In Store displays;Billboards' 'Application offer'\n",
            " 'Starbucks Website/Apps;Social Media;Through friends and word of mouth;In Store displays'\n",
            " 'In Store displays'\n",
            " 'Social Media;Through friends and word of mouth;Billboards'\n",
            " 'Starbucks Website/Apps;Social Media;Emails;Billboards'\n",
            " 'Social Media;Emails;Deal sites (fave, iprice, etc...);Through friends and word of mouth;In Store displays;Billboards'\n",
            " 'Starbucks Website/Apps;Social Media;Deal sites (fave, iprice, etc...);Through friends and word of mouth'\n",
            " 'Never hear'\n",
            " 'Social Media;Through friends and word of mouth;In Store displays;Billboards'\n",
            " 'Starbucks Website/Apps;Deal sites (fave, iprice, etc...)'\n",
            " 'Social Media;Deal sites (fave, iprice, etc...);Through friends and word of mouth'\n",
            " 'Social Media;Emails;Through friends and word of mouth'\n",
            " 'Social Media;Deal sites (fave, iprice, etc...)' nan\n",
            " 'Starbucks Website/Apps;Emails' 'Billboards'\n",
            " 'Starbucks Website/Apps;Social Media;Emails;Deal sites (fave, iprice, etc...);Through friends and word of mouth;In Store displays;Billboards']\n"
          ]
        }
      ]
    },
    {
      "cell_type": "code",
      "source": [
        "distinct_vals = df['10. What do you most frequently purchase at Starbucks?'].unique()\n",
        "print(distinct_vals)"
      ],
      "metadata": {
        "colab": {
          "base_uri": "https://localhost:8080/"
        },
        "id": "SmT6anObne3L",
        "outputId": "cd28001a-06b3-4c96-9b0e-06aa6ce2abc5"
      },
      "execution_count": null,
      "outputs": [
        {
          "output_type": "stream",
          "name": "stdout",
          "text": [
            "['Coffee' 'Cold drinks;Pastries' 'Coffee;Sandwiches' 'Cold drinks'\n",
            " 'Coffee;Cold drinks' 'Cold drinks;Pastries;Sandwiches'\n",
            " 'Coffee;Juices;Pastries;Sandwiches' 'Coffee;Pastries;Sandwiches'\n",
            " 'Coffee;Pastries' 'Cold drinks;Juices;Pastries'\n",
            " 'Coffee;Cold drinks;Pastries;Sandwiches' 'Never' 'Never buy any'\n",
            " 'Jaws chip ' 'cake ' 'Pastries' 'Cold drinks;Never' 'never' 'Nothing '\n",
            " 'Coffee;Cold drinks;Juices;Pastries;Sandwiches']\n"
          ]
        }
      ]
    },
    {
      "cell_type": "markdown",
      "source": [
        "### Clean Data"
      ],
      "metadata": {
        "id": "YBgYFO0NfjDb"
      }
    },
    {
      "cell_type": "code",
      "source": [
        "# Remove rows with any null values\n",
        "df_01 = df.dropna()\n",
        "\n",
        "# Reset the index\n",
        "df_01 = df_01.reset_index(drop=True)\n",
        "\n",
        "# Check the shape after cleaning\n",
        "print(df_01.shape)"
      ],
      "metadata": {
        "colab": {
          "base_uri": "https://localhost:8080/"
        },
        "id": "JpDC1VkGcaYx",
        "outputId": "bb7c1e09-7858-4e67-fe51-f36d7d415d54"
      },
      "execution_count": null,
      "outputs": [
        {
          "output_type": "stream",
          "name": "stdout",
          "text": [
            "(121, 21)\n"
          ]
        }
      ]
    },
    {
      "cell_type": "code",
      "source": [
        "import pandas as pd\n",
        "\n",
        "object_summary = []\n",
        "\n",
        "for col in df_01.select_dtypes(include='object').columns:\n",
        "    unique_vals = df_01[col].dropna().unique()\n",
        "    preview_vals = unique_vals[:10].tolist() if len(unique_vals) > 10 else unique_vals.tolist()\n",
        "    object_summary.append({'column': col, 'distinct_values': preview_vals})\n",
        "\n",
        "object_summary_df = pd.DataFrame(object_summary)\n",
        "print(\"Object Columns Summary:\")\n",
        "print(object_summary_df)\n",
        "\n",
        "int_summary = []\n",
        "\n",
        "for col in df_01.select_dtypes(include='int64').columns:\n",
        "    col_min = df_01[col].min()\n",
        "    col_max = df_01[col].max()\n",
        "    int_summary.append({'column': col, 'min': col_min, 'max': col_max})\n",
        "\n",
        "int_summary_df = pd.DataFrame(int_summary)\n",
        "print(\"\\nint64 Columns Summary:\")\n",
        "print(int_summary_df)\n"
      ],
      "metadata": {
        "colab": {
          "base_uri": "https://localhost:8080/"
        },
        "id": "X0Vvpev7iiVM",
        "outputId": "261dd3b3-c0bd-4bb6-fc8e-6cc8703703df"
      },
      "execution_count": null,
      "outputs": [
        {
          "output_type": "stream",
          "name": "stdout",
          "text": [
            "Object Columns Summary:\n",
            "                                               column  \\\n",
            "0                                           Timestamp   \n",
            "1                                      1. Your Gender   \n",
            "2                                         2. Your Age   \n",
            "3                           3. Are you currently....?   \n",
            "4                      4. What is your annual income?   \n",
            "5                5. How often do you visit Starbucks?   \n",
            "6              6. How do you usually enjoy Starbucks?   \n",
            "7   7. How much time do you normally  spend during...   \n",
            "8     8. The nearest Starbucks's outlet to you is...?   \n",
            "9           9. Do you have Starbucks membership card?   \n",
            "10  10. What do you most frequently purchase at St...   \n",
            "11  11. On average, how much would you spend at St...   \n",
            "12  19. How do you come to hear of promotions at S...   \n",
            "13         20. Will you continue buying at Starbucks?   \n",
            "\n",
            "                                      distinct_values  \n",
            "0   [2019/10/01 12:38:43 PM GMT+8, 2019/10/01 12:3...  \n",
            "1                                      [Female, Male]  \n",
            "2   [From 20 to 29, From 30 to 39, 40 and above, B...  \n",
            "3       [Student, Employed, Self-employed, Housewife]  \n",
            "4   [Less than RM25,000, RM50,000 - RM100,000, RM2...  \n",
            "5             [Rarely, Monthly, Weekly, Never, Daily]  \n",
            "6   [Dine in, Take away, Drive-thru, never, Never ...  \n",
            "7   [Between 30 minutes to 1 hour, Below 30 minute...  \n",
            "8              [within 1km, 1km - 3km, more than 3km]  \n",
            "9                                           [Yes, No]  \n",
            "10  [Coffee, Cold drinks;Pastries, Coffee;Sandwich...  \n",
            "11  [Less than RM20, Around RM20 - RM40, More than...  \n",
            "12  [Starbucks Website/Apps;Social Media;Emails;De...  \n",
            "13                                          [Yes, No]  \n",
            "\n",
            "int64 Columns Summary:\n",
            "                                              column  min  max\n",
            "0  12. How would you rate the quality of Starbuck...    1    5\n",
            "1  13. How would you rate the price range at Star...    1    5\n",
            "2  14. How important are sales and promotions in ...    1    5\n",
            "3  15. How would you rate the ambiance at Starbuc...    1    5\n",
            "4    16. You rate the WiFi quality at Starbucks as..    1    5\n",
            "5  17. How would you rate the service at Starbuck...    1    5\n",
            "6  18. How likely you will choose Starbucks for d...    1    5\n"
          ]
        }
      ]
    },
    {
      "cell_type": "markdown",
      "source": [
        "### Structure data into SQL databases"
      ],
      "metadata": {
        "id": "-rmLkrJKd-QG"
      }
    },
    {
      "cell_type": "code",
      "source": [
        "import sqlite3\n",
        "\n",
        "# Create SQLite DB in memory\n",
        "conn = sqlite3.connect(':memory:')\n",
        "\n",
        "# Write the DataFrame to the database\n",
        "df_01.to_sql('customer_survey', conn, index=False, if_exists='replace')\n"
      ],
      "metadata": {
        "colab": {
          "base_uri": "https://localhost:8080/"
        },
        "id": "ycdf_Fo1eHDx",
        "outputId": "0bbce6c4-aa98-496d-cb8e-2ac022b480d2"
      },
      "execution_count": null,
      "outputs": [
        {
          "output_type": "execute_result",
          "data": {
            "text/plain": [
              "121"
            ]
          },
          "metadata": {},
          "execution_count": 13
        }
      ]
    },
    {
      "cell_type": "markdown",
      "source": [
        "### Sample SQL query"
      ],
      "metadata": {
        "id": "QajVZyCSfYZF"
      }
    },
    {
      "cell_type": "code",
      "source": [
        "query = \"\"\"\n",
        "SELECT\n",
        "    [1. Your Gender],\n",
        "    COUNT(*) as respondent_count\n",
        "FROM\n",
        "    customer_survey\n",
        "GROUP BY\n",
        "    [1. Your Gender]\n",
        "\"\"\"\n",
        "\n",
        "result = pd.read_sql_query(query, conn)\n",
        "print(result)"
      ],
      "metadata": {
        "colab": {
          "base_uri": "https://localhost:8080/"
        },
        "id": "NLBMXnpJerB5",
        "outputId": "48476ff4-2e3e-4321-a5f8-3f846f2439f3"
      },
      "execution_count": null,
      "outputs": [
        {
          "output_type": "stream",
          "name": "stdout",
          "text": [
            "  1. Your Gender  respondent_count\n",
            "0         Female                65\n",
            "1           Male                56\n"
          ]
        }
      ]
    },
    {
      "cell_type": "code",
      "source": [
        "query = \"\"\"\n",
        "SELECT\n",
        "    [2. Your Age],\n",
        "    AVG([13. How would you rate the price range at Starbucks?]) AS avg_rate_on_price\n",
        "FROM\n",
        "    customer_survey\n",
        "GROUP BY\n",
        "    [2. Your Age]\n",
        "\"\"\"\n",
        "result01 = pd.read_sql_query(query, conn)\n",
        "print(result01)"
      ],
      "metadata": {
        "colab": {
          "base_uri": "https://localhost:8080/"
        },
        "id": "IGJuOPTAe31v",
        "outputId": "5036e6ae-50ee-43e7-ad5c-f2650a641034"
      },
      "execution_count": null,
      "outputs": [
        {
          "output_type": "stream",
          "name": "stdout",
          "text": [
            "     2. Your Age  avg_rate_on_price\n",
            "0   40 and above           3.428571\n",
            "1       Below 20           3.153846\n",
            "2  From 20 to 29           2.809524\n",
            "3  From 30 to 39           3.000000\n"
          ]
        }
      ]
    },
    {
      "cell_type": "markdown",
      "source": [
        "## 3.Prompt Engineer"
      ],
      "metadata": {
        "id": "qv1JX_-HkUrd"
      }
    },
    {
      "cell_type": "markdown",
      "source": [
        "### Load the openai API key"
      ],
      "metadata": {
        "id": "pYPrk0cUU8ut"
      }
    },
    {
      "cell_type": "code",
      "source": [
        "import os\n",
        "from openai import OpenAI\n",
        "client = OpenAI(api_key=\"API Key\")"
      ],
      "metadata": {
        "id": "9EA9jSz7lKXl"
      },
      "execution_count": null,
      "outputs": []
    },
    {
      "cell_type": "code",
      "source": [
        "def get_completion(prompt, model=\"gpt-4o\"):\n",
        "    messages = [{\"role\": \"user\", \"content\": prompt}]\n",
        "    response = client.chat.completions.create(\n",
        "        model=model,\n",
        "        messages=messages,\n",
        "        temperature=0\n",
        "    )\n",
        "    return response.choices[0].message.content"
      ],
      "metadata": {
        "id": "UOnAYu_qk62m"
      },
      "execution_count": null,
      "outputs": []
    },
    {
      "cell_type": "markdown",
      "source": [
        "### (1) Prompt to SQL"
      ],
      "metadata": {
        "id": "7-uhEB2ew1sZ"
      }
    },
    {
      "cell_type": "code",
      "source": [
        "import re\n",
        "\n",
        "# Step 1: User input\n",
        "user_question = input(\"Welcome! What would you like to know today? \")\n",
        "\n",
        "# Step 2: Generate SQL using GPT\n",
        "def make_sql_prompt(user_question, table_name, columns):\n",
        "    col_str = ', '.join([f'\"{col}\"' for col in columns])\n",
        "    prompt = (\n",
        "        f\"You are a SQL expert. \"\n",
        "        f\"Here is the schema for the table '{table_name}':\\n\"\n",
        "        f\"Columns: {col_str}\\n\"\n",
        "        f\"Based on this schema, write a SQL query to answer the following question:\\n\"\n",
        "        f\"{user_question}\\n\"\n",
        "        \"Return only the SQL code, without any markdown formatting or explanation.\"\n",
        "    )\n",
        "    return prompt\n",
        "\n",
        "columns = list(df_01.columns)\n",
        "sql_prompt = make_sql_prompt(user_question, \"customer_survey\", columns) #further improvements on automatically select the database\n",
        "sql_query_response = get_completion(sql_prompt, model=\"gpt-4o\")\n",
        "\n",
        "# Step 3: execute the SQL query and print the results\n",
        "print(\"\\nSQL Query:\\n\",sql_query_response)\n",
        "\n",
        "try:\n",
        "    result_df = pd.read_sql_query(sql_query_response,conn)\n",
        "    print(\"\\nSQL Query Result:\\n\",result_df)\n",
        "except Exception as e:\n",
        "    print(\"Error running SQL:\",e)\n"
      ],
      "metadata": {
        "colab": {
          "base_uri": "https://localhost:8080/"
        },
        "id": "6CW4gqIdqhDO",
        "outputId": "4bb21707-4b6b-4848-eaa0-cd166275eb67"
      },
      "execution_count": null,
      "outputs": [
        {
          "output_type": "stream",
          "name": "stdout",
          "text": [
            "Welcome! What would you like to know today? What is the gender composition among respondents?\n",
            "\n",
            "SQL Query:\n",
            " SELECT \"1. Your Gender\", COUNT(*) AS count\n",
            "FROM customer_survey\n",
            "GROUP BY \"1. Your Gender\";\n",
            "\n",
            "SQL Query Result:\n",
            "   1. Your Gender  count\n",
            "0         Female     65\n",
            "1           Male     56\n"
          ]
        }
      ]
    },
    {
      "cell_type": "markdown",
      "source": [
        "### (2) SQL to Summary"
      ],
      "metadata": {
        "id": "1mEkGM0zw9Vg"
      }
    },
    {
      "cell_type": "code",
      "source": [
        "def make_summary_prompt(user_question, result_df):\n",
        "    # Convert result_df to a string for context (truncate if too long)\n",
        "    result_str = result_df.to_string(index=False)\n",
        "    prompt = (\n",
        "        f\"You are a data analyst. \"\n",
        "        f\"The user asked: {user_question}\\n\"\n",
        "        f\"Here is the query result:\\n{result_str}\\n\"\n",
        "        \"Summarize this result and the key insight in plain English for a business audience.\"\n",
        "    )\n",
        "    return prompt\n",
        "\n",
        "summary_prompt = make_summary_prompt(user_question, result_df)\n",
        "summary = get_completion(summary_prompt, model=\"gpt-4o\")\n",
        "print(\"Summary:\\n\", summary)"
      ],
      "metadata": {
        "colab": {
          "base_uri": "https://localhost:8080/"
        },
        "id": "42zUtXPwuv26",
        "outputId": "b4ebc124-012d-4491-a538-0ef445783f29"
      },
      "execution_count": null,
      "outputs": [
        {
          "output_type": "stream",
          "name": "stdout",
          "text": [
            "Summary:\n",
            " The survey results indicate that among the respondents, there are 65 females and 56 males. This means that females make up a slightly larger portion of the respondents compared to males. The key insight here is that the gender composition is relatively balanced, with a slight female majority. This balance suggests that any conclusions drawn from the survey data are likely to be representative of both genders, though it may be beneficial to consider any gender-specific trends or preferences that could be influencing the responses.\n"
          ]
        }
      ]
    },
    {
      "cell_type": "markdown",
      "source": [
        "### (3) Visualization"
      ],
      "metadata": {
        "id": "xMVc4im0xB_N"
      }
    },
    {
      "cell_type": "code",
      "source": [
        "import seaborn as sns\n",
        "import matplotlib.pyplot as plt\n",
        "import squarify\n",
        "import numpy as np\n",
        "import re\n",
        "\n",
        "# Chart Recommendation\n",
        "\n",
        "def chart_recom(user_question, result_df):\n",
        "    # Convert result DataFrame to string (truncate if very large)\n",
        "    result_str = result_df.head(10).to_string(index=False)  # show up to 10 rows\n",
        "    prompt = (\n",
        "        f\"You are a Business Intelligence Visualization Analyst. \"\n",
        "        f\"The user asked: {user_question}\\n\"\n",
        "        f\"Here are the query results:\\n{result_str}\\n\"\n",
        "        \"Recommend the most appropriate chart or visualization for these results (e.g., seaborn/matplotlib chart)\"\n",
        "    )\n",
        "    return prompt\n",
        "\n",
        "summary_prompt = chart_recom(user_question, result_df)\n",
        "summary_and_chart = get_completion(summary_prompt, model=\"gpt-4o\")\n",
        "\n",
        "def extract_chart_type(gpt_response):\n",
        "    chart_types = [\n",
        "        'bar', 'line', 'scatter', 'histogram', 'box', 'box & whisker', 'violin',\n",
        "        'treemap', 'heatmap', 'swarm', 'strip', 'bullet', 'packed bubble'\n",
        "    ]\n",
        "    for chart in chart_types:\n",
        "        if re.search(rf\"\\b{re.escape(chart)}\\b\", gpt_response.lower()):\n",
        "            return chart\n",
        "    return None\n",
        "\n",
        "# Main visualization function\n",
        "def plot_flexible_chart(result_df, chart_type):\n",
        "    plt.close('all')\n",
        "    cols = result_df.columns.tolist()\n",
        "    chart_type_lower = chart_type.lower() if chart_type else None\n",
        "\n",
        "    # Map common chart names to seaborn/matplotlib functions\n",
        "    chart_map = {\n",
        "        \"bar\": lambda: sns.barplot(x=cols[0], y=cols[1], data=result_df, hue=cols[0], palette=\"Purples\", legend=False),\n",
        "        \"line\": lambda: sns.lineplot(x=cols[0], y=cols[1], data=result_df, color=sns.color_palette(\"Purples\")[4]),\n",
        "        \"scatter\": lambda: sns.scatterplot(x=cols[0], y=cols[1], data=result_df, color=sns.color_palette(\"Purples\")[5]),\n",
        "        \"histogram\": lambda: sns.histplot(result_df[cols[0]], color=sns.color_palette(\"Purples\")[3]),\n",
        "        \"box\": lambda: sns.boxplot(y=result_df[cols[0]], color=sns.color_palette(\"Purples\")[6]),\n",
        "        \"box & whisker\": lambda: sns.boxplot(y=result_df[cols[0]], color=sns.color_palette(\"Purples\")[6]),\n",
        "        \"violin\": lambda: sns.violinplot(y=result_df[cols[0]], color=sns.color_palette(\"Purples\")[5]),\n",
        "        \"treemap\": lambda: squarify.plot(\n",
        "            sizes=result_df[cols[1]],\n",
        "            label=result_df[cols[0]].astype(str),\n",
        "            color=sns.color_palette(\"Purples\", len(result_df))),\n",
        "        \"heatmap\": lambda: sns.heatmap(result_df.corr(), annot=True, cmap=\"Purples\"),\n",
        "        \"swarm\": lambda: sns.swarmplot(x=cols[0], y=cols[1], data=result_df, color=sns.color_palette(\"Purples\")[5]),\n",
        "        \"strip\": lambda: sns.stripplot(x=cols[0], y=cols[1], data=result_df, color=sns.color_palette(\"Purples\")[6])\n",
        "    }\n",
        "\n",
        "    # Try to plot if mapping exists and data shape fits\n",
        "    try:\n",
        "        if chart_type_lower in chart_map:\n",
        "            chart_map[chart_type_lower]()\n",
        "            plt.tight_layout()\n",
        "            plt.show()\n",
        "        else:\n",
        "            print(\"No visuals recommended.\")\n",
        "    except Exception:\n",
        "        print(\"No visuals recommended.\")\n",
        "\n",
        "\n",
        "chart_type = extract_chart_type(summary_and_chart)\n",
        "if chart_type:\n",
        "    plot_flexible_chart(result_df, chart_type)\n",
        "else:\n",
        "    print(\"No visuals recommended.\")"
      ],
      "metadata": {
        "colab": {
          "base_uri": "https://localhost:8080/",
          "height": 487
        },
        "id": "sVUlSLhKRper",
        "outputId": "44bcb24e-ff95-4118-9ba6-ad5148ec369a"
      },
      "execution_count": null,
      "outputs": [
        {
          "output_type": "display_data",
          "data": {
            "text/plain": [
              "<Figure size 640x480 with 1 Axes>"
            ],
            "image/png": "[encoded data removed]"
          },
          "metadata": {}
        }
      ]
    },
    {
      "cell_type": "markdown",
      "source": [
        "## 4.Full Code"
      ],
      "metadata": {
        "id": "saUDK6cxXx6L"
      }
    },
    {
      "cell_type": "markdown",
      "source": [
        "### Final Code with UI"
      ],
      "metadata": {
        "id": "PVwQoiLX3jJ5"
      }
    },
    {
      "cell_type": "code",
      "source": [
        "from IPython.display import display, Markdown\n",
        "\n",
        "# ----------- Visualization Function -----------\n",
        "def plot_flexible_chart(result_df, chart_type):\n",
        "    plt.close('all')\n",
        "    cols = result_df.columns.tolist()\n",
        "    chart_type_lower = chart_type.lower() if chart_type else None\n",
        "\n",
        "    chart_map = {\n",
        "        \"bar\": lambda: sns.barplot(x=cols[0], y=cols[1], data=result_df, hue=cols[0], palette=\"Purples\", legend=False),\n",
        "        \"line\": lambda: sns.lineplot(x=cols[0], y=cols[1], data=result_df, color=sns.color_palette(\"Purples\")[4]),\n",
        "        \"scatter\": lambda: sns.scatterplot(x=cols[0], y=cols[1], data=result_df, color=sns.color_palette(\"Purples\")[5]),\n",
        "        \"histogram\": lambda: sns.histplot(result_df[cols[0]], color=sns.color_palette(\"Purples\")[3]),\n",
        "        \"box\": lambda: sns.boxplot(y=result_df[cols[0]], color=sns.color_palette(\"Purples\")[6]),\n",
        "        \"box & whisker\": lambda: sns.boxplot(y=result_df[cols[0]], color=sns.color_palette(\"Purples\")[6]),\n",
        "        \"violin\": lambda: sns.violinplot(y=result_df[cols[0]], color=sns.color_palette(\"Purples\")[5]),\n",
        "        \"treemap\": lambda: squarify.plot(\n",
        "            sizes=result_df[cols[1]] if np.issubdtype(result_df[cols[1]].dtype, np.number) else np.arange(1, len(result_df) + 1),\n",
        "            label=result_df[cols[0]].astype(str),\n",
        "            color=sns.color_palette(\"Purples\", len(result_df))),\n",
        "        \"heatmap\": lambda: sns.heatmap(result_df.corr(), annot=True, cmap=\"Purples\"),\n",
        "        \"swarm\": lambda: sns.swarmplot(x=cols[0], y=cols[1], data=result_df, color=sns.color_palette(\"Purples\")[5]),\n",
        "        \"strip\": lambda: sns.stripplot(x=cols[0], y=cols[1], data=result_df, color=sns.color_palette(\"Purples\")[6])\n",
        "    }\n",
        "\n",
        "    try:\n",
        "        if chart_type_lower in chart_map:\n",
        "            chart_map[chart_type_lower]()\n",
        "            plt.tight_layout()\n",
        "            plt.show()\n",
        "        else:\n",
        "            display(Markdown(\"No visuals recommended.\"))\n",
        "    except Exception as e:\n",
        "        display(Markdown(f\"No visuals recommended. (Error: {e})\"))\n",
        "\n",
        "\n",
        "# ----------- Main Chatbot Flow -----------\n",
        "#-----1.Prompt to SQL-------\n",
        "\n",
        "display(Markdown(\n",
        "    \"<h2>👋 Welcome to HarrisX Research Chatbot!</h2>\"\n",
        "    \"<p>I’m here to help you explore customer survey data and generate insights.<br>\"\n",
        "    \"Type your business question below to get started. For example:</p>\"\n",
        "    \"<ul>\"\n",
        "    \"<li>What is the percentage of female respondents?</li>\"\n",
        "    \"<li>How do students rate the price range?</li>\"\n",
        "    \"<li>What is average rating of the quality of Starbucks compared to other brands for different customer groups?</li>\"\n",
        "    \"</ul>\"\n",
        "))\n",
        "\n",
        "user_question = input(\"Enter your question here: \")\n",
        "\n",
        "def make_sql_prompt(user_question, table_name, columns):\n",
        "    col_str = ', '.join([f'\"{col}\"' for col in columns])\n",
        "    prompt = (\n",
        "        f\"You are a SQL expert. \"\n",
        "        f\"Here is the schema for the table '{table_name}':\\n\"\n",
        "        f\"Columns: {col_str}\\n\"\n",
        "        f\"Based on this schema, write a SQL query to answer the following question:\\n\"\n",
        "        f\"{user_question}\\n\"\n",
        "        \"Return only the SQL code with clean formatting, without any markdown formatting or explanation.\"\n",
        "    )\n",
        "    return prompt\n",
        "\n",
        "columns = list(df_01.columns)\n",
        "sql_prompt = make_sql_prompt(user_question, \"customer_survey\", columns)\n",
        "sql_query_response = get_completion(sql_prompt, model=\"gpt-4o\")\n",
        "\n",
        "import re\n",
        "sql_query_clean = re.sub(r\"^```[^\\n]*\\n\", \"\", sql_query_response.strip())\n",
        "sql_query_clean = re.sub(r\"\\n```$\", \"\", sql_query_clean).strip()\n",
        "\n",
        "display(Markdown(\"### **Generated SQL Query**\"))\n",
        "display(Markdown(f\"```sql\\n{sql_query_clean}\\n```\"))\n",
        "\n",
        "try:\n",
        "    result_df = pd.read_sql_query(sql_query_clean, conn)\n",
        "    display(Markdown(\"### **SQL Query Result (top 10 rows):**\"))\n",
        "    display(result_df.head(10))\n",
        "except Exception as e:\n",
        "    display(Markdown(f\"<span style='color:red'><b>Error running SQL:</b> {e}</span>\"), raw=True)\n",
        "    result_df = None\n",
        "\n",
        "#-----2.SQL to Summary-------\n",
        "\n",
        "if result_df is not None and not result_df.empty:\n",
        "    def make_summary_prompt(user_question, result_df):\n",
        "        result_str = result_df.to_string(index=False)\n",
        "        prompt = (\n",
        "            f\"You are a data analyst. \"\n",
        "            f\"The user asked: {user_question}\\n\"\n",
        "            f\"Here is the query result:\\n{result_str}\\n\"\n",
        "            \"Summarize this result and the key insight in plain English for a business audience.\"\n",
        "        )\n",
        "        return prompt\n",
        "\n",
        "    summary_prompt = make_summary_prompt(user_question, result_df)\n",
        "    summary = get_completion(summary_prompt, model=\"gpt-4o\")\n",
        "    display(Markdown(\"### **Summary & Key Insight**\"))\n",
        "    # Display bullet points if present, otherwise show the first line\n",
        "    lines = [line for line in summary.strip().split('\\n') if line.strip()]\n",
        "    if all(line.startswith(\"-\") or line.startswith(\"*\") for line in lines):\n",
        "        display(Markdown('\\n'.join(lines)))\n",
        "    else:\n",
        "        display(Markdown(summary.strip()))\n",
        "\n",
        "    #-----3.Visualization-------\n",
        "\n",
        "    def chart_recom(user_question, result_df):\n",
        "        result_str = result_df.head(10).to_string(index=False)\n",
        "        prompt = (\n",
        "            f\"You are a Business Intelligence Visualization Analyst. \"\n",
        "            f\"The user asked: {user_question}\\n\"\n",
        "            f\"Here are the query results:\\n{result_str}\\n\"\n",
        "            \"Recommend the most appropriate chart or visualization for these results (e.g., seaborn/matplotlib chart)\"\n",
        "        )\n",
        "        return prompt\n",
        "\n",
        "    summary_prompt = chart_recom(user_question, result_df)\n",
        "    summary_and_chart = get_completion(summary_prompt, model=\"gpt-4o\")\n",
        "\n",
        "    def extract_chart_type(gpt_response):\n",
        "        chart_types = [\n",
        "            'bar', 'line', 'scatter', 'histogram', 'box', 'box & whisker', 'violin',\n",
        "            'treemap', 'heatmap', 'swarm', 'strip', 'bullet', 'packed bubble'\n",
        "        ]\n",
        "        for chart in chart_types:\n",
        "            if re.search(rf\"\\b{re.escape(chart)}\\b\", gpt_response.lower()):\n",
        "                return chart\n",
        "        return None\n",
        "\n",
        "    chart_type = extract_chart_type(summary_and_chart)\n",
        "    if chart_type:\n",
        "        display(Markdown(f\"### **Visualization: {chart_type.title()} Chart**\"))\n",
        "        plot_flexible_chart(result_df, chart_type)\n",
        "    else:\n",
        "        display(Markdown(\"No visuals recommended.\"))\n",
        "else:\n",
        "    display(Markdown(\"No results to summarize or visualize.\"))"
      ],
      "metadata": {
        "colab": {
          "base_uri": "https://localhost:8080/",
          "height": 1000
        },
        "id": "vfMWnk8QyvME",
        "outputId": "b7046741-3195-4b6f-e508-f2edda9df78b"
      },
      "execution_count": null,
      "outputs": [
        {
          "output_type": "display_data",
          "data": {
            "text/plain": [
              "<IPython.core.display.Markdown object>"
            ],
            "text/markdown": "<h2>👋 Welcome to HarrisX Research Chatbot!</h2><p>I’m here to help you explore customer survey data and generate insights.<br>Type your business question below to get started. For example:</p><ul><li>What is the percentage of female respondents?</li><li>How do students rate the price range?</li><li>What is average rating of the quality of Starbucks compared to other brands for different customer groups?</li></ul>"
          },
          "metadata": {}
        },
        {
          "name": "stdout",
          "output_type": "stream",
          "text": [
            "Enter your question here: What is average rating of the quality of Starbucks compared to other brands for different customer groups?\n"
          ]
        },
        {
          "output_type": "display_data",
          "data": {
            "text/plain": [
              "<IPython.core.display.Markdown object>"
            ],
            "text/markdown": "### **Generated SQL Query**"
          },
          "metadata": {}
        },
        {
          "output_type": "display_data",
          "data": {
            "text/plain": [
              "<IPython.core.display.Markdown object>"
            ],
            "text/markdown": "```sql\nSELECT \n    \"3. Are you currently....?\" AS customer_group,\n    AVG(CAST(\"12. How would you rate the quality of Starbucks compared to other brands (Coffee Bean, Old Town White Coffee..) to be:\" AS FLOAT)) AS average_quality_rating\nFROM \n    customer_survey\nGROUP BY \n    \"3. Are you currently....?\";\n```"
          },
          "metadata": {}
        },
        {
          "output_type": "display_data",
          "data": {
            "text/plain": [
              "<IPython.core.display.Markdown object>"
            ],
            "text/markdown": "### **SQL Query Result (top 10 rows):**"
          },
          "metadata": {}
        },
        {
          "output_type": "display_data",
          "data": {
            "text/plain": [
              "  customer_group  average_quality_rating\n",
              "0       Employed                3.783333\n",
              "1      Housewife                4.000000\n",
              "2  Self-employed                3.705882\n",
              "3        Student                3.523810"
            ],
            "text/html": [
              "\n",
              "  <div id=\"df-38fa865f-0b79-4112-a354-b782a0205e9f\" class=\"colab-df-container\">\n",
              "    <div>\n",
              "<style scoped>\n",
              "    .dataframe tbody tr th:only-of-type {\n",
              "        vertical-align: middle;\n",
              "    }\n",
              "\n",
              "    .dataframe tbody tr th {\n",
              "        vertical-align: top;\n",
              "    }\n",
              "\n",
              "    .dataframe thead th {\n",
              "        text-align: right;\n",
              "    }\n",
              "</style>\n",
              "<table border=\"1\" class=\"dataframe\">\n",
              "  <thead>\n",
              "    <tr style=\"text-align: right;\">\n",
              "      <th></th>\n",
              "      <th>customer_group</th>\n",
              "      <th>average_quality_rating</th>\n",
              "    </tr>\n",
              "  </thead>\n",
              "  <tbody>\n",
              "    <tr>\n",
              "      <th>0</th>\n",
              "      <td>Employed</td>\n",
              "      <td>3.783333</td>\n",
              "    </tr>\n",
              "    <tr>\n",
              "      <th>1</th>\n",
              "      <td>Housewife</td>\n",
              "      <td>4.000000</td>\n",
              "    </tr>\n",
              "    <tr>\n",
              "      <th>2</th>\n",
              "      <td>Self-employed</td>\n",
              "      <td>3.705882</td>\n",
              "    </tr>\n",
              "    <tr>\n",
              "      <th>3</th>\n",
              "      <td>Student</td>\n",
              "      <td>3.523810</td>\n",
              "    </tr>\n",
              "  </tbody>\n",
              "</table>\n",
              "</div>\n",
              "    <div class=\"colab-df-buttons\">\n",
              "\n",
              "  <div class=\"colab-df-container\">\n",
              "    <button class=\"colab-df-convert\" onclick=\"convertToInteractive('df-38fa865f-0b79-4112-a354-b782a0205e9f')\"\n",
              "            title=\"Convert this dataframe to an interactive table.\"\n",
              "            style=\"display:none;\">\n",
              "\n",
              "  <svg xmlns=\"http://www.w3.org/2000/svg\" height=\"24px\" viewBox=\"0 -960 960 960\">\n",
              "    <path d=\"M120-120v-720h720v720H120Zm60-500h600v-160H180v160Zm220 220h160v-160H400v160Zm0 220h160v-160H400v160ZM180-400h160v-160H180v160Zm440 0h160v-160H620v160ZM180-180h160v-160H180v160Zm440 0h160v-160H620v160Z\"/>\n",
              "  </svg>\n",
              "    </button>\n",
              "\n",
              "  <style>\n",
              "    .colab-df-container {\n",
              "      display:flex;\n",
              "      gap: 12px;\n",
              "    }\n",
              "\n",
              "    .colab-df-convert {\n",
              "      background-color: #E8F0FE;\n",
              "      border: none;\n",
              "      border-radius: 50%;\n",
              "      cursor: pointer;\n",
              "      display: none;\n",
              "      fill: #1967D2;\n",
              "      height: 32px;\n",
              "      padding: 0 0 0 0;\n",
              "      width: 32px;\n",
              "    }\n",
              "\n",
              "    .colab-df-convert:hover {\n",
              "      background-color: #E2EBFA;\n",
              "      box-shadow: 0px 1px 2px rgba(60, 64, 67, 0.3), 0px 1px 3px 1px rgba(60, 64, 67, 0.15);\n",
              "      fill: #174EA6;\n",
              "    }\n",
              "\n",
              "    .colab-df-buttons div {\n",
              "      margin-bottom: 4px;\n",
              "    }\n",
              "\n",
              "    [theme=dark] .colab-df-convert {\n",
              "      background-color: #3B4455;\n",
              "      fill: #D2E3FC;\n",
              "    }\n",
              "\n",
              "    [theme=dark] .colab-df-convert:hover {\n",
              "      background-color: #434B5C;\n",
              "      box-shadow: 0px 1px 3px 1px rgba(0, 0, 0, 0.15);\n",
              "      filter: drop-shadow(0px 1px 2px rgba(0, 0, 0, 0.3));\n",
              "      fill: #FFFFFF;\n",
              "    }\n",
              "  </style>\n",
              "\n",
              "    <script>\n",
              "      const buttonEl =\n",
              "        document.querySelector('#df-38fa865f-0b79-4112-a354-b782a0205e9f button.colab-df-convert');\n",
              "      buttonEl.style.display =\n",
              "        google.colab.kernel.accessAllowed ? 'block' : 'none';\n",
              "\n",
              "      async function convertToInteractive(key) {\n",
              "        const element = document.querySelector('#df-38fa865f-0b79-4112-a354-b782a0205e9f');\n",
              "        const dataTable =\n",
              "          await google.colab.kernel.invokeFunction('convertToInteractive',\n",
              "                                                    [key], {});\n",
              "        if (!dataTable) return;\n",
              "\n",
              "        const docLinkHtml = 'Like what you see? Visit the ' +\n",
              "          '<a target=\"_blank\" href=https://colab.research.google.com/notebooks/data_table.ipynb>data table notebook</a>'\n",
              "          + ' to learn more about interactive tables.';\n",
              "        element.innerHTML = '';\n",
              "        dataTable['output_type'] = 'display_data';\n",
              "        await google.colab.output.renderOutput(dataTable, element);\n",
              "        const docLink = document.createElement('div');\n",
              "        docLink.innerHTML = docLinkHtml;\n",
              "        element.appendChild(docLink);\n",
              "      }\n",
              "    </script>\n",
              "  </div>\n",
              "\n",
              "\n",
              "    <div id=\"df-8e1cc622-5268-4765-96c1-fb6b12a06eb4\">\n",
              "      <button class=\"colab-df-quickchart\" onclick=\"quickchart('df-8e1cc622-5268-4765-96c1-fb6b12a06eb4')\"\n",
              "                title=\"Suggest charts\"\n",
              "                style=\"display:none;\">\n",
              "\n",
              "<svg xmlns=\"http://www.w3.org/2000/svg\" height=\"24px\"viewBox=\"0 0 24 24\"\n",
              "     width=\"24px\">\n",
              "    <g>\n",
              "        <path d=\"M19 3H5c-1.1 0-2 .9-2 2v14c0 1.1.9 2 2 2h14c1.1 0 2-.9 2-2V5c0-1.1-.9-2-2-2zM9 17H7v-7h2v7zm4 0h-2V7h2v10zm4 0h-2v-4h2v4z\"/>\n",
              "    </g>\n",
              "</svg>\n",
              "      </button>\n",
              "\n",
              "<style>\n",
              "  .colab-df-quickchart {\n",
              "      --bg-color: #E8F0FE;\n",
              "      --fill-color: #1967D2;\n",
              "      --hover-bg-color: #E2EBFA;\n",
              "      --hover-fill-color: #174EA6;\n",
              "      --disabled-fill-color: #AAA;\n",
              "      --disabled-bg-color: #DDD;\n",
              "  }\n",
              "\n",
              "  [theme=dark] .colab-df-quickchart {\n",
              "      --bg-color: #3B4455;\n",
              "      --fill-color: #D2E3FC;\n",
              "      --hover-bg-color: #434B5C;\n",
              "      --hover-fill-color: #FFFFFF;\n",
              "      --disabled-bg-color: #3B4455;\n",
              "      --disabled-fill-color: #666;\n",
              "  }\n",
              "\n",
              "  .colab-df-quickchart {\n",
              "    background-color: var(--bg-color);\n",
              "    border: none;\n",
              "    border-radius: 50%;\n",
              "    cursor: pointer;\n",
              "    display: none;\n",
              "    fill: var(--fill-color);\n",
              "    height: 32px;\n",
              "    padding: 0;\n",
              "    width: 32px;\n",
              "  }\n",
              "\n",
              "  .colab-df-quickchart:hover {\n",
              "    background-color: var(--hover-bg-color);\n",
              "    box-shadow: 0 1px 2px rgba(60, 64, 67, 0.3), 0 1px 3px 1px rgba(60, 64, 67, 0.15);\n",
              "    fill: var(--button-hover-fill-color);\n",
              "  }\n",
              "\n",
              "  .colab-df-quickchart-complete:disabled,\n",
              "  .colab-df-quickchart-complete:disabled:hover {\n",
              "    background-color: var(--disabled-bg-color);\n",
              "    fill: var(--disabled-fill-color);\n",
              "    box-shadow: none;\n",
              "  }\n",
              "\n",
              "  .colab-df-spinner {\n",
              "    border: 2px solid var(--fill-color);\n",
              "    border-color: transparent;\n",
              "    border-bottom-color: var(--fill-color);\n",
              "    animation:\n",
              "      spin 1s steps(1) infinite;\n",
              "  }\n",
              "\n",
              "  @keyframes spin {\n",
              "    0% {\n",
              "      border-color: transparent;\n",
              "      border-bottom-color: var(--fill-color);\n",
              "      border-left-color: var(--fill-color);\n",
              "    }\n",
              "    20% {\n",
              "      border-color: transparent;\n",
              "      border-left-color: var(--fill-color);\n",
              "      border-top-color: var(--fill-color);\n",
              "    }\n",
              "    30% {\n",
              "      border-color: transparent;\n",
              "      border-left-color: var(--fill-color);\n",
              "      border-top-color: var(--fill-color);\n",
              "      border-right-color: var(--fill-color);\n",
              "    }\n",
              "    40% {\n",
              "      border-color: transparent;\n",
              "      border-right-color: var(--fill-color);\n",
              "      border-top-color: var(--fill-color);\n",
              "    }\n",
              "    60% {\n",
              "      border-color: transparent;\n",
              "      border-right-color: var(--fill-color);\n",
              "    }\n",
              "    80% {\n",
              "      border-color: transparent;\n",
              "      border-right-color: var(--fill-color);\n",
              "      border-bottom-color: var(--fill-color);\n",
              "    }\n",
              "    90% {\n",
              "      border-color: transparent;\n",
              "      border-bottom-color: var(--fill-color);\n",
              "    }\n",
              "  }\n",
              "</style>\n",
              "\n",
              "      <script>\n",
              "        async function quickchart(key) {\n",
              "          const quickchartButtonEl =\n",
              "            document.querySelector('#' + key + ' button');\n",
              "          quickchartButtonEl.disabled = true;  // To prevent multiple clicks.\n",
              "          quickchartButtonEl.classList.add('colab-df-spinner');\n",
              "          try {\n",
              "            const charts = await google.colab.kernel.invokeFunction(\n",
              "                'suggestCharts', [key], {});\n",
              "          } catch (error) {\n",
              "            console.error('Error during call to suggestCharts:', error);\n",
              "          }\n",
              "          quickchartButtonEl.classList.remove('colab-df-spinner');\n",
              "          quickchartButtonEl.classList.add('colab-df-quickchart-complete');\n",
              "        }\n",
              "        (() => {\n",
              "          let quickchartButtonEl =\n",
              "            document.querySelector('#df-8e1cc622-5268-4765-96c1-fb6b12a06eb4 button');\n",
              "          quickchartButtonEl.style.display =\n",
              "            google.colab.kernel.accessAllowed ? 'block' : 'none';\n",
              "        })();\n",
              "      </script>\n",
              "    </div>\n",
              "\n",
              "    </div>\n",
              "  </div>\n"
            ],
            "application/vnd.google.colaboratory.intrinsic+json": {
              "type": "dataframe",
              "summary": "{\n  \"name\": \"    display(Markdown(\\\"No results to summarize or visualize\",\n  \"rows\": 4,\n  \"fields\": [\n    {\n      \"column\": \"customer_group\",\n      \"properties\": {\n        \"dtype\": \"string\",\n        \"num_unique_values\": 4,\n        \"samples\": [\n          \"Housewife\",\n          \"Student\",\n          \"Employed\"\n        ],\n        \"semantic_type\": \"\",\n        \"description\": \"\"\n      }\n    },\n    {\n      \"column\": \"average_quality_rating\",\n      \"properties\": {\n        \"dtype\": \"number\",\n        \"std\": 0.19721155762949857,\n        \"min\": 3.5238095238095237,\n        \"max\": 4.0,\n        \"num_unique_values\": 4,\n        \"samples\": [\n          4.0,\n          3.5238095238095237,\n          3.783333333333333\n        ],\n        \"semantic_type\": \"\",\n        \"description\": \"\"\n      }\n    }\n  ]\n}"
            }
          },
          "metadata": {}
        },
        {
          "output_type": "display_data",
          "data": {
            "text/plain": [
              "<IPython.core.display.Markdown object>"
            ],
            "text/markdown": "### **Summary & Key Insight**"
          },
          "metadata": {}
        },
        {
          "output_type": "display_data",
          "data": {
            "text/plain": [
              "<IPython.core.display.Markdown object>"
            ],
            "text/markdown": "The data provides insights into how different customer groups rate the quality of Starbucks compared to other brands. On average, housewives rate the quality of Starbucks the highest, with a score of 4.0. Employed individuals also have a relatively high average rating of 3.78. Self-employed customers give a slightly lower average rating of 3.71, while students rate the quality the lowest, with an average score of 3.52.\n\nKey Insight: Starbucks appears to be most favored by housewives in terms of quality, while students are the least satisfied among the customer groups analyzed. This suggests that Starbucks may want to explore strategies to enhance its appeal to students, potentially by addressing their specific needs or preferences."
          },
          "metadata": {}
        },
        {
          "output_type": "display_data",
          "data": {
            "text/plain": [
              "<IPython.core.display.Markdown object>"
            ],
            "text/markdown": "### **Visualization: Bar Chart**"
          },
          "metadata": {}
        },
        {
          "output_type": "display_data",
          "data": {
            "text/plain": [
              "<Figure size 640x480 with 1 Axes>"
            ],
            "image/png": "[encoded data removed]"
          },
          "metadata": {}
        }
      ]
    }
  ]
}